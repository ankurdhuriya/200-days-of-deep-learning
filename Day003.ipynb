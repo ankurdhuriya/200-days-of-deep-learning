{
  "nbformat": 4,
  "nbformat_minor": 0,
  "metadata": {
    "colab": {
      "provenance": [],
      "gpuType": "T4"
    },
    "kernelspec": {
      "name": "python3",
      "display_name": "Python 3"
    },
    "language_info": {
      "name": "python"
    },
    "accelerator": "GPU"
  },
  "cells": [
    {
      "cell_type": "markdown",
      "metadata": {
        "id": "bba1b014"
      },
      "source": [
        "## Overview\n",
        "\n",
        "This notebook demonstrates the process of training a modified ResNet-18 model on the CIFAR-10 dataset. The primary objective is to classify images into one of the 10 CIFAR-10 classes.\n",
        "\n",
        "The study involves:\n",
        "\n",
        "- Loading and preprocessing the CIFAR-10 dataset.\n",
        "- Defining a ResNet-18 architecture adapted for smaller image sizes.\n",
        "- Setting up the loss function and optimizer for training.\n",
        "- Training the model for a specified number of epochs.\n",
        "- Visualizing the learned filters of the first convolutional layer to gain insights into what features the network is learning early on."
      ]
    },
    {
      "cell_type": "markdown",
      "metadata": {
        "id": "85d2d59e"
      },
      "source": [
        "## Setup and Data Loading"
      ]
    },
    {
      "cell_type": "code",
      "execution_count": 1,
      "metadata": {
        "id": "UmZDRh0bIWV9"
      },
      "outputs": [],
      "source": [
        "import torch\n",
        "import torch.nn as nn\n",
        "import torchvision\n",
        "import torchvision.transforms as transforms\n",
        "import matplotlib.pyplot as plt\n",
        "import numpy as np"
      ]
    },
    {
      "cell_type": "code",
      "source": [
        "# Define a sequence of data transformations for training images\n",
        "transform_train = transforms.Compose([\n",
        "    # Randomly crop images to 32x32 pixels, with 4-pixel padding on each side before cropping.\n",
        "    transforms.RandomCrop(32, padding=4),\n",
        "    # Randomly flip images horizontally (with a probability of 0.5) to add variety.\n",
        "    transforms.RandomHorizontalFlip(),\n",
        "    # Convert the PIL Image or numpy.ndarray to a PyTorch tensor (scales pixel values to [0, 1]).\n",
        "    transforms.ToTensor(),\n",
        "    # Normalize each channel (R, G, B) of the image tensor using CIFAR-10 dataset means and stds.\n",
        "    transforms.Normalize((0.4914, 0.4822, 0.4465), (0.2023, 0.1994, 0.2010)),\n",
        "])\n",
        "\n",
        "# Load the CIFAR-10 training dataset, downloading if not present,\n",
        "# and applying the transform_train pipeline to each image.\n",
        "trainset = torchvision.datasets.CIFAR10(root='./data', train=True, download=True, transform=transform_train)\n",
        "\n",
        "# Set up a DataLoader which will provide batches of data for training:\n",
        "# - Batch size of 128 (number of images per batch),\n",
        "# - Shuffle the data after each epoch,\n",
        "# - Use 2 subprocesses to load the data (parallelism).\n",
        "trainloader = torch.utils.data.DataLoader(trainset, batch_size=128, shuffle=True, num_workers=2)"
      ],
      "metadata": {
        "id": "2XwK9wTFRlfB"
      },
      "execution_count": 2,
      "outputs": []
    },
    {
      "cell_type": "markdown",
      "metadata": {
        "id": "6634a7b8"
      },
      "source": [
        "## Data Exploration and Visualization"
      ]
    },
    {
      "cell_type": "code",
      "source": [
        "def show_normalized_scaled(img):\n",
        "    # Convert tensor to numpy (H, W, C)\n",
        "    img = img.numpy().transpose((1, 2, 0))\n",
        "    # Min-max scale to [0, 1] for visualization\n",
        "    img_min, img_max = img.min(), img.max()\n",
        "    img = (img - img_min) / (img_max - img_min)\n",
        "    plt.imshow(img)\n",
        "    plt.axis('off')\n",
        "\n",
        "# Grab a batch of images\n",
        "dataiter = iter(trainloader)\n",
        "images, labels = next(dataiter)\n",
        "\n",
        "# Visualize 4 normalized images scaled for display\n",
        "plt.figure(figsize=(8,2))\n",
        "for i in range(4):\n",
        "    plt.subplot(1, 4, i+1)\n",
        "    show_normalized_scaled(images[i])\n",
        "plt.show()"
      ],
      "metadata": {
        "colab": {
          "base_uri": "https://localhost:8080/",
          "height": 171
        },
        "id": "xqubz9FYL7Xc",
        "outputId": "193ae8ef-25d4-42c3-e937-769ae2b98e1d"
      },
      "execution_count": 3,
      "outputs": [
        {
          "output_type": "display_data",
          "data": {
            "text/plain": [
              "<Figure size 800x200 with 4 Axes>"
            ],
            "image/png": "[encoded data removed]"
          },
          "metadata": {}
        }
      ]
    },
    {
      "cell_type": "markdown",
      "metadata": {
        "id": "efeeaac3"
      },
      "source": [
        "## Model Definition (ResNet18)"
      ]
    },
    {
      "cell_type": "code",
      "source": [
        "class ResNet18(nn.Module):\n",
        "    \"\"\"\n",
        "    A modified ResNet-18 model tailored for small input images like CIFAR-10 (32x32).\n",
        "\n",
        "    Key changes compared to the original ResNet-18 architecture designed for ImageNet (224x224) images:\n",
        "\n",
        "    1. First convolution layer:\n",
        "       - Changed from a 7x7 kernel with stride 2 and padding 3\n",
        "         to a 3x3 kernel with stride 1 and padding 1.\n",
        "       - This preserves the spatial resolution better for small images,\n",
        "         avoiding excessive downsampling at the very beginning.\n",
        "\n",
        "    2. Max pooling layer:\n",
        "       - Removed the 3x3 maxpool with stride 2 by replacing it with nn.Identity().\n",
        "       - This prevents early aggressive downsampling that would drastically reduce spatial size,\n",
        "         which is not suitable for 32x32 inputs like CIFAR-10.\n",
        "\n",
        "    3. Final fully connected layer:\n",
        "       - Adjusted the output features to match the number of CIFAR-10 classes (default 10).\n",
        "       - In the original model, this is set for 1000 ImageNet classes.\n",
        "\n",
        "    These modifications help the model maintain sufficient spatial information throughout the network,\n",
        "    improving performance on small images without changing the core ResNet block structure.\n",
        "    \"\"\"\n",
        "    def __init__(self, num_classes=10):\n",
        "        super(ResNet18, self).__init__()\n",
        "        # Load the pretrained ResNet18 model\n",
        "        self.model = torchvision.models.resnet18(weights=None)\n",
        "        # Adjust the first conv layer to accept CIFAR-10 input size (3x32x32)\n",
        "        self.model.conv1 = nn.Conv2d(3, 64, kernel_size=3, stride=1, padding=1, bias=False)\n",
        "        self.model.maxpool = nn.Identity()  # Remove the maxpool layer to preserve spatial size\n",
        "\n",
        "        # Replace the fully connected layer to output num_classes predictions\n",
        "        self.model.fc = nn.Linear(self.model.fc.in_features, num_classes)\n",
        "\n",
        "    def forward(self, x):\n",
        "        return self.model(x)"
      ],
      "metadata": {
        "id": "xRTDbAE-MTwA"
      },
      "execution_count": 4,
      "outputs": []
    },
    {
      "cell_type": "markdown",
      "metadata": {
        "id": "e9cebafc"
      },
      "source": [
        "## Training Setup (Loss and Optimizer)"
      ]
    },
    {
      "cell_type": "code",
      "source": [
        "# Assume model is an instance of ResNet18 and device is set (e.g., 'cuda' or 'cpu')\n",
        "\n",
        "device = torch.device(\"cuda\" if torch.cuda.is_available() else \"cpu\")\n",
        "print(f\"Device : {device}\")"
      ],
      "metadata": {
        "colab": {
          "base_uri": "https://localhost:8080/"
        },
        "id": "VLJnx086NxL8",
        "outputId": "90d80b5e-4a33-4cc3-f0ac-fda46fb1b16b"
      },
      "execution_count": 5,
      "outputs": [
        {
          "output_type": "stream",
          "name": "stdout",
          "text": [
            "Device : cuda\n"
          ]
        }
      ]
    },
    {
      "cell_type": "code",
      "source": [
        "model = ResNet18(num_classes=10).to(device)"
      ],
      "metadata": {
        "id": "bfFUU0LiOLdJ"
      },
      "execution_count": 6,
      "outputs": []
    },
    {
      "cell_type": "code",
      "source": [
        "criterion = nn.CrossEntropyLoss()"
      ],
      "metadata": {
        "id": "dWrskH9MO1ON"
      },
      "execution_count": 7,
      "outputs": []
    },
    {
      "cell_type": "markdown",
      "source": [
        "<p>This loss function is the standard choice for multi-class classification problems like CIFAR-10 where each input belongs to exactly one of multiple classes. It combines softmax and negative log-likelihood loss in one efficient function, measuring how well the predicted class probabilities align with the true labels.</p>"
      ],
      "metadata": {
        "id": "VwkOch5jOz-V"
      }
    },
    {
      "cell_type": "code",
      "source": [
        "optimizer = torch.optim.SGD(model.parameters(), lr=0.1, momentum=0.9, weight_decay=5e-4)"
      ],
      "metadata": {
        "id": "bTFbpFu9OqN9"
      },
      "execution_count": 8,
      "outputs": []
    },
    {
      "cell_type": "markdown",
      "source": [
        "SGD is a classical, widely used optimization algorithm for training neural networks. The momentum term (0.9 here) helps accelerate training by smoothing the gradient updates and avoiding local minima or noisy oscillations. A learning rate of 0.1 with weight decay (L2 regularization) is commonly effective for CIFAR-10 training with ResNet architectures. Weight decay helps reduce overfitting by penalizing large weights."
      ],
      "metadata": {
        "id": "WEO1NnnuPDCj"
      }
    },
    {
      "cell_type": "markdown",
      "metadata": {
        "id": "cb50a7dd"
      },
      "source": [
        "## Training the Model"
      ]
    },
    {
      "cell_type": "code",
      "source": [
        "def train_model(num_epochs):\n",
        "  for epoch in range(num_epochs):\n",
        "    model.train() # ensures model activates all training-specific behaviors correctly\n",
        "    running_loss = 0.0\n",
        "    for inputs, targets in trainloader:\n",
        "        inputs, targets = inputs.to(device), targets.to(device)\n",
        "\n",
        "        optimizer.zero_grad()           # Clear gradients from previous step\n",
        "\n",
        "        outputs = model(inputs)         # Forward pass\n",
        "        loss = criterion(outputs, targets)  # Compute loss\n",
        "\n",
        "        loss.backward()                 # Backward pass (compute gradients)\n",
        "        optimizer.step()                # Update model parameters\n",
        "\n",
        "        running_loss += loss.item()\n",
        "\n",
        "    avg_loss = running_loss / len(trainloader)\n",
        "    print(f\"Epoch [{epoch+1}/{num_epochs}], Loss: {avg_loss:.4f}\")"
      ],
      "metadata": {
        "id": "1hHlxesNPCSy"
      },
      "execution_count": 9,
      "outputs": []
    },
    {
      "cell_type": "code",
      "source": [
        "train_model(num_epochs=10)"
      ],
      "metadata": {
        "colab": {
          "base_uri": "https://localhost:8080/"
        },
        "id": "RSIhvrZFQKaj",
        "outputId": "8ded2447-681e-46b0-8063-24bf64977369"
      },
      "execution_count": 10,
      "outputs": [
        {
          "output_type": "stream",
          "name": "stdout",
          "text": [
            "Epoch [1/10], Loss: 2.0507\n",
            "Epoch [2/10], Loss: 1.4068\n",
            "Epoch [3/10], Loss: 1.0877\n",
            "Epoch [4/10], Loss: 0.8630\n",
            "Epoch [5/10], Loss: 0.7249\n",
            "Epoch [6/10], Loss: 0.6380\n",
            "Epoch [7/10], Loss: 0.5841\n",
            "Epoch [8/10], Loss: 0.5449\n",
            "Epoch [9/10], Loss: 0.5152\n",
            "Epoch [10/10], Loss: 0.4901\n"
          ]
        }
      ]
    },
    {
      "cell_type": "markdown",
      "metadata": {
        "id": "73b20e6a"
      },
      "source": [
        "## Visualizing Learned Filters"
      ]
    },
    {
      "cell_type": "code",
      "source": [
        "# Extract the weights of the first conv layer: shape (out_channels, in_channels, k, k)\n",
        "filters = model.model.conv1.weight.data.cpu().numpy()\n",
        "\n",
        "# Normalize filter values to [0, 1] for visualization\n",
        "f_min, f_max = filters.min(), filters.max()\n",
        "filters = (filters - f_min) / (f_max - f_min)\n",
        "\n",
        "num_filters = filters.shape[0]\n",
        "\n",
        "# Plot the filters\n",
        "plt.figure(figsize=(12, 12)) # Adjusted figure size for 8x8 grid\n",
        "for i in range(num_filters):\n",
        "    plt.subplot(8, 8, i+1)  # layout: 8 rows x 8 columns for 64 filters\n",
        "    # Transpose filter from (C, k, k) to (k, k, C) for displaying as image\n",
        "    f = filters[i].transpose(1, 2, 0)\n",
        "    plt.imshow(f)\n",
        "    plt.axis('off')\n",
        "\n",
        "plt.suptitle('First Convolutional Layer Filters')\n",
        "plt.show()"
      ],
      "metadata": {
        "colab": {
          "base_uri": "https://localhost:8080/",
          "height": 1000
        },
        "id": "oUfGCpKKQM1S",
        "outputId": "135a161d-c95e-4fcf-ba0a-77139ad75d22"
      },
      "execution_count": 12,
      "outputs": [
        {
          "output_type": "display_data",
          "data": {
            "text/plain": [
              "<Figure size 1200x1200 with 64 Axes>"
            ],
            "image/png": "[encoded data removed]"
          },
          "metadata": {}
        }
      ]
    }
  ]
}