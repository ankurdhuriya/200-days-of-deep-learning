{
  "nbformat": 4,
  "nbformat_minor": 0,
  "metadata": {
    "colab": {
      "provenance": [],
      "gpuType": "T4"
    },
    "kernelspec": {
      "name": "python3",
      "display_name": "Python 3"
    },
    "language_info": {
      "name": "python"
    },
    "accelerator": "GPU"
  },
  "cells": [
    {
      "cell_type": "markdown",
      "metadata": {
        "id": "5974b139"
      },
      "source": [
        "# Denoising Autoencoder with PyTorch\n",
        "\n",
        "This notebook demonstrates how to build and train a simple denoising autoencoder using PyTorch. A denoising autoencoder is a type of neural network that learns to reconstruct clean input data from corrupted or noisy input.\n",
        "\n",
        "The notebook covers the following steps:\n",
        "\n",
        "1.  **Import necessary libraries**: Import PyTorch, torchvision, and matplotlib.\n",
        "2.  **Load and prepare data**: Load the MNIST dataset and create a DataLoader.\n",
        "3.  **Define noise function**: Create a function to add Gaussian noise to images.\n",
        "4.  **Define the Denoising Autoencoder model**: Build a simple autoencoder with an encoder and decoder using fully connected layers.\n",
        "5.  **Set up training components**: Define the device, model instance, loss function (MSE), and optimizer (Adam).\n",
        "6.  **Train the model**: Implement the training loop, adding noise to the input images and training the autoencoder to reconstruct the original images.\n",
        "7.  **Visualize results**: Show examples of original, noisy, and denoised images to evaluate the model's performance."
      ]
    },
    {
      "cell_type": "code",
      "execution_count": 1,
      "metadata": {
        "id": "BFz2eqo-zr-I"
      },
      "outputs": [],
      "source": [
        "import torch\n",
        "import torch.nn as nn\n",
        "import torch.optim as optim\n",
        "from torchvision import datasets, transforms\n",
        "from torch.utils.data import DataLoader\n",
        "import matplotlib.pyplot as plt"
      ]
    },
    {
      "cell_type": "code",
      "source": [
        "# Data loader\n",
        "transform = transforms.ToTensor()\n",
        "train_dataset = datasets.MNIST(root='./data', train=True, download=True, transform=transform)\n",
        "train_loader = DataLoader(train_dataset, batch_size=128, shuffle=True)"
      ],
      "metadata": {
        "colab": {
          "base_uri": "https://localhost:8080/"
        },
        "id": "eg4CCYlnzwUo",
        "outputId": "636b199f-e9da-4c77-b1f8-34fbfba84f36"
      },
      "execution_count": 2,
      "outputs": [
        {
          "output_type": "stream",
          "name": "stderr",
          "text": [
            "100%|██████████| 9.91M/9.91M [00:01<00:00, 5.12MB/s]\n",
            "100%|██████████| 28.9k/28.9k [00:00<00:00, 133kB/s]\n",
            "100%|██████████| 1.65M/1.65M [00:01<00:00, 1.26MB/s]\n",
            "100%|██████████| 4.54k/4.54k [00:00<00:00, 7.19MB/s]\n"
          ]
        }
      ]
    },
    {
      "cell_type": "code",
      "source": [
        "# Add Gaussian noise to images\n",
        "def add_noise(imgs, noise_factor=0.5):\n",
        "    noisy_imgs = imgs + noise_factor * torch.randn_like(imgs)\n",
        "    return torch.clamp(noisy_imgs, 0.0, 1.0)"
      ],
      "metadata": {
        "id": "AzRXj1jX0ER9"
      },
      "execution_count": 3,
      "outputs": []
    },
    {
      "cell_type": "code",
      "source": [
        "class DenoisingAutoencoder(nn.Module):\n",
        "    \"\"\"\n",
        "    A simple denoising autoencoder implemented using PyTorch.\n",
        "\n",
        "    This autoencoder is designed to take noisy images as input and\n",
        "    reconstruct the original, clean images. It consists of a symmetrical\n",
        "    encoder and decoder structure with fully connected layers and ReLU\n",
        "    activation functions, except for the final output layer which uses\n",
        "    a Sigmoid to ensure the output is in the range [0, 1].\n",
        "\n",
        "    The input images are expected to be flattened into a 1D tensor\n",
        "    representing 28x28 pixels.\n",
        "\n",
        "    Attributes:\n",
        "        enc (nn.Sequential): The encoder part of the autoencoder.\n",
        "                             It consists of three linear layers with ReLU\n",
        "                             activations, reducing the dimensionality from\n",
        "                             784 to 256, then to 64, and finally to 16.\n",
        "        dec (nn.Sequential): The decoder part of the autoencoder.\n",
        "                             It consists of three linear layers, mirroring\n",
        "                             the encoder in reverse. It increases the\n",
        "                             dimensionality from 16 to 64, then to 256,\n",
        "                             and finally to 784, followed by a Sigmoid\n",
        "                             activation.\n",
        "    \"\"\"\n",
        "    def __init__(self):\n",
        "        super().__init__()\n",
        "        # Encoder\n",
        "        self.enc = nn.Sequential(\n",
        "            nn.Linear(28 * 28, 256),\n",
        "            nn.ReLU(),\n",
        "            nn.Linear(256, 64),\n",
        "            nn.ReLU(),\n",
        "            nn.Linear(64, 16),\n",
        "            nn.ReLU(),\n",
        "        )\n",
        "        # Decoder\n",
        "        self.dec = nn.Sequential(\n",
        "            nn.Linear(16, 64),\n",
        "            nn.ReLU(),\n",
        "            nn.Linear(64, 256),\n",
        "            nn.ReLU(),\n",
        "            nn.Linear(256, 28 * 28),\n",
        "            nn.Sigmoid(), # To keep output in [0, 1]\n",
        "        )\n",
        "\n",
        "    def forward(self, x):\n",
        "        \"\"\"\n",
        "        Defines the forward pass of the denoising autoencoder.\n",
        "\n",
        "        Args:\n",
        "            x (torch.Tensor): The input tensor containing flattened images.\n",
        "                              Expected shape is (batch_size, 28 * 28).\n",
        "\n",
        "        Returns:\n",
        "            torch.Tensor: The reconstructed output tensor, with the same shape\n",
        "                          as the input (batch_size, 28 * 28), but representing\n",
        "                          the denoised images. The values are in the range [0, 1].\n",
        "        \"\"\"\n",
        "        x = x.view(-1, 28 * 28)     # Flatten images\n",
        "        encoded = self.enc(x)\n",
        "        decoded = self.dec(encoded)\n",
        "        return decoded"
      ],
      "metadata": {
        "id": "t0K0oER60QJv"
      },
      "execution_count": 4,
      "outputs": []
    },
    {
      "cell_type": "code",
      "source": [
        "# Model, optimizer, loss\n",
        "device = torch.device('cuda' if torch.cuda.is_available() else 'cpu')\n",
        "model = DenoisingAutoencoder().to(device)\n",
        "criterion = nn.MSELoss()\n",
        "optimizer = optim.Adam(model.parameters(), lr=1e-3)"
      ],
      "metadata": {
        "id": "eYhwg3Pp0VOq"
      },
      "execution_count": 5,
      "outputs": []
    },
    {
      "cell_type": "code",
      "source": [
        "# Training loop\n",
        "for epoch in range(20):  # 20 epochs for quick demo\n",
        "    for imgs, _ in train_loader:\n",
        "        imgs = imgs.to(device)\n",
        "        noisy_imgs = add_noise(imgs, noise_factor=0.5).to(device)\n",
        "        # Forward\n",
        "        outputs = model(noisy_imgs)\n",
        "        loss = criterion(outputs, imgs.view(-1, 28 * 28))\n",
        "        # Backward\n",
        "        optimizer.zero_grad()\n",
        "        loss.backward()\n",
        "        optimizer.step()\n",
        "    print(f'Epoch {epoch+1}: loss={loss.item():.4f}')"
      ],
      "metadata": {
        "colab": {
          "base_uri": "https://localhost:8080/"
        },
        "id": "sDGQ74A30Xoo",
        "outputId": "62b3ecb9-767f-40ae-87e5-305851fcecf6"
      },
      "execution_count": 6,
      "outputs": [
        {
          "output_type": "stream",
          "name": "stdout",
          "text": [
            "Epoch 1: loss=0.0504\n",
            "Epoch 2: loss=0.0368\n",
            "Epoch 3: loss=0.0338\n",
            "Epoch 4: loss=0.0274\n",
            "Epoch 5: loss=0.0256\n",
            "Epoch 6: loss=0.0264\n",
            "Epoch 7: loss=0.0244\n",
            "Epoch 8: loss=0.0252\n",
            "Epoch 9: loss=0.0235\n",
            "Epoch 10: loss=0.0205\n",
            "Epoch 11: loss=0.0236\n",
            "Epoch 12: loss=0.0223\n",
            "Epoch 13: loss=0.0219\n",
            "Epoch 14: loss=0.0210\n",
            "Epoch 15: loss=0.0201\n",
            "Epoch 16: loss=0.0197\n",
            "Epoch 17: loss=0.0208\n",
            "Epoch 18: loss=0.0195\n",
            "Epoch 19: loss=0.0189\n",
            "Epoch 20: loss=0.0191\n"
          ]
        }
      ]
    },
    {
      "cell_type": "code",
      "source": [
        "# Test denoising and visualize\n",
        "def plot_images(original, noisy, denoised, n=6):\n",
        "    \"\"\"Plots original, noisy, and denoised images.\"\"\"\n",
        "    plt.figure(figsize=(9, 5))\n",
        "    for i in range(n):\n",
        "        plt.subplot(3, n, i + 1)\n",
        "        plt.imshow(original[i].squeeze(0), cmap='gray')\n",
        "        plt.axis('off')\n",
        "        if i == 0:\n",
        "            plt.ylabel('Original')\n",
        "\n",
        "        plt.subplot(3, n, i + 1 + n)\n",
        "        plt.imshow(noisy[i].squeeze(0), cmap='gray')\n",
        "        plt.axis('off')\n",
        "        if i == 0:\n",
        "            plt.ylabel('Noisy')\n",
        "\n",
        "        plt.subplot(3, n, i + 1 + 2 * n)\n",
        "        plt.imshow(denoised[i].view(28, 28), cmap='gray')\n",
        "        plt.axis('off')\n",
        "        if i == 0:\n",
        "            plt.ylabel('Denoised')\n",
        "    plt.tight_layout()\n",
        "    plt.show()\n",
        "\n",
        "imgs, _ = next(iter(train_loader))\n",
        "noisy_imgs = add_noise(imgs, noise_factor=0.5)\n",
        "outputs = model(noisy_imgs.to(device)).cpu().detach()\n",
        "\n",
        "plot_images(imgs, noisy_imgs, outputs)"
      ],
      "metadata": {
        "colab": {
          "base_uri": "https://localhost:8080/",
          "height": 483
        },
        "id": "CMsUZadA0dRj",
        "outputId": "8c0001cb-ad30-4656-98e2-f1b217cb2ba9"
      },
      "execution_count": 9,
      "outputs": [
        {
          "output_type": "display_data",
          "data": {
            "text/plain": [
              "<Figure size 900x500 with 18 Axes>"
            ],
            "image/png": "[encoded data removed]"
          },
          "metadata": {}
        }
      ]
    }
  ]
}